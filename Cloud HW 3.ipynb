{
 "cells": [
  {
   "cell_type": "code",
   "execution_count": 83,
   "metadata": {
    "scrolled": true
   },
   "outputs": [
    {
     "name": "stdout",
     "output_type": "stream",
     "text": [
      "My big car goes fast.\n",
      "big\n",
      "M\n",
      "car goes fast.\n",
      ".\n",
      "My big car goes fast\n",
      "M i a osfs.\n",
      "Mb ro s\n",
      "Miaof.\n",
      ".tsaf seog rac gib yM\n",
      "\n",
      "\n",
      "[[ 9 10 11]\n",
      " [12 13 14]\n",
      " [15 16 17]]\n",
      "\n",
      "\n",
      "0\n",
      "\n",
      "\n",
      "[0 1 2]\n",
      "\n",
      "\n",
      "[ 8 17 26]\n",
      "\n",
      "\n",
      "[11 14 17]\n"
     ]
    }
   ],
   "source": [
    "# Cloud HW 3\n",
    "# Dr. Prevost\n",
    "# Author: Garrett Hall\n",
    "# 10/2/2017\n",
    "# Instructions:\n",
    "# Use the following variable declaration for the first 10 problems:\n",
    "q = str('My big car goes fast.')\n",
    "\n",
    "print (q)\n",
    "\n",
    "# Use q string for exercises 1-10\n",
    "print(q[3:6])\n",
    "print(q[0])\n",
    "print(q[7:])\n",
    "print(q[-1])\n",
    "print(q[:-1])\n",
    "\n",
    "q_plus2 = [];\n",
    "for i in range (0,len(q),2):\n",
    "    q_plus2.append(q[i])\n",
    "q_plus2= \"\".join(q_plus2)\n",
    "print(q_plus2)\n",
    "\n",
    "q_plus3 = [];\n",
    "for i in range (0,len(q),3):\n",
    "    q_plus3.append(q[i])\n",
    "q_plus3= \"\".join(q_plus3)\n",
    "print(q_plus3)\n",
    "\n",
    "q_plus4 = [];\n",
    "for i in range (0,len(q),4):\n",
    "    q_plus4.append(q[i])\n",
    "q_plus4= \"\".join(q_plus4)\n",
    "print(q_plus4)\n",
    "\n",
    "print(q[::-1])\n",
    "print(\"\\n\")\n",
    "\n",
    "# Use c for exercises 11-15\n",
    "import numpy as np\n",
    "c=np.arange(27).reshape(3,3,3)\n",
    "\n",
    "print(c[1,:,:])\n",
    "print(\"\\n\")\n",
    "print(c[0,0,0])\n",
    "print(\"\\n\")\n",
    "print(c[0,0,:])\n",
    "print(\"\\n\")\n",
    "print(c[:,2,2])\n",
    "print(\"\\n\")\n",
    "print(c[1,:,2])\n"
   ]
  },
  {
   "cell_type": "code",
   "execution_count": null,
   "metadata": {},
   "outputs": [],
   "source": [
    "    "
   ]
  }
 ],
 "metadata": {
  "kernelspec": {
   "display_name": "Python 2",
   "language": "python",
   "name": "python2"
  },
  "language_info": {
   "codemirror_mode": {
    "name": "ipython",
    "version": 2
   },
   "file_extension": ".py",
   "mimetype": "text/x-python",
   "name": "python",
   "nbconvert_exporter": "python",
   "pygments_lexer": "ipython2",
   "version": "2.7.12"
  }
 },
 "nbformat": 4,
 "nbformat_minor": 2
}
